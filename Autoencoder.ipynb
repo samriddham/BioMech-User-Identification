{
 "cells": [
  {
   "cell_type": "code",
   "execution_count": null,
   "id": "e1b55259",
   "metadata": {},
   "outputs": [],
   "source": [
    "import torch\n",
    "import torch.nn as nn\n",
    "import torch.optim as optim\n",
    "import numpy as np\n",
    "from sklearn.preprocessing import StandardScaler\n",
    "\n",
    "class Autoencoder(nn.Module):\n",
    "    def __init__(self, input_dim):\n",
    "        super(Autoencoder, self).__init__()\n",
    "        self.encoder = nn.Sequential(\n",
    "            nn.Linear(input_dim, 16),\n",
    "            nn.ReLU(),\n",
    "            nn.Linear(16, 8),\n",
    "            nn.ReLU()\n",
    "        )\n",
    "        self.decoder = nn.Sequential(\n",
    "            nn.Linear(8, 16),\n",
    "            nn.ReLU(),\n",
    "            nn.Linear(16, input_dim)\n",
    "        )\n",
    "    \n",
    "    def forward(self, x):\n",
    "        x = self.encoder(x)\n",
    "        x = self.decoder(x)\n",
    "        return x\n",
    "\n",
    "def build_autoencoder(input_dim):\n",
    "    return Autoencoder(input_dim)\n",
    "\n",
    "def train_model(path):\n",
    "    scaler = StandardScaler()\n",
    "    data = np.array(pd.read_csv(path)) \n",
    "    \n",
    "    scaled_data = scaler.fit_transform(data)\n",
    "    input_dim = scaled_data.shape[1]\n",
    "    \n",
    "    tensor_data = torch.FloatTensor(scaled_data)\n",
    "    \n",
    "    autoencoder = build_autoencoder(input_dim)\n",
    "    criterion = nn.MSELoss()\n",
    "    optimizer = optim.Adam(autoencoder.parameters(), lr=0.001)\n",
    "    \n",
    "    batch_size = 32\n",
    "    train_loader = torch.utils.data.DataLoader(tensor_data, batch_size=batch_size, shuffle=True)\n",
    "    \n",
    "    for epoch in range(2):\n",
    "        for batch in train_loader:\n",
    "            outputs = autoencoder(batch)\n",
    "            loss = criterion(outputs, batch)\n",
    "            \n",
    "            optimizer.zero_grad()\n",
    "            loss.backward()\n",
    "            optimizer.step()\n",
    "    \n",
    "    with torch.no_grad():\n",
    "        reconstructed = autoencoder(tensor_data)\n",
    "    \n",
    "    reconstruction_error = np.mean((scaled_data - reconstructed.numpy())**2, axis=1)\n",
    "    reconstruction_threshold = np.percentile(reconstruction_error, 95)\n",
    "    \n",
    "    return autoencoder, reconstruction_threshold"
   ]
  },
  {
   "cell_type": "code",
   "execution_count": null,
   "id": "2288cfca",
   "metadata": {},
   "outputs": [],
   "source": [
    "import os\n",
    "import pandas as pd\n",
    "import numpy as np\n",
    "\n",
    "train_path=r'/home/UTTU/NewProj/linux-kernel-examples/kernelKeyLogger/OS_zip_file/Sam_train.csv'\n",
    "test_path=r'/home/UTTU/NewProj/linux-kernel-examples/kernelKeyLogger/OS_zip_file/Sam_test.csv'\n",
    "\n",
    "Sam_train=r'/home/UTTU/NewProj/linux-kernel-examples/kernelKeyLogger/OS_zip_file/Sam_train.csv'\n",
    "Sam_2=r'/home/UTTU/NewProj/linux-kernel-examples/kernelKeyLogger/OS_zip_file/Sam_test.csv'\n",
    "Utkarsh_train=r'/home/UTTU/NewProj/linux-kernel-examples/kernelKeyLogger/OS_zip_file/Utkarsh.csv'"
   ]
  },
  {
   "cell_type": "code",
   "execution_count": 20,
   "id": "e292316c",
   "metadata": {},
   "outputs": [],
   "source": [
    "autoencoder,reconstruction_threshold=train_model(Utkarsh_train)\n",
    "torch.save(autoencoder.state_dict(),r'/home/UTTU/NewProj/linux-kernel-examples/kernelKeyLogger/OS_zip_file/current_model_ut.torch')\n",
    "pd.DataFrame([reconstruction_threshold]).to_csv(r'/home/UTTU/NewProj/linux-kernel-examples/kernelKeyLogger/OS_zip_file/reconstruction_threshold_ut.csv')"
   ]
  },
  {
   "cell_type": "code",
   "execution_count": 6,
   "id": "e101b597",
   "metadata": {},
   "outputs": [
    {
     "data": {
      "text/plain": [
       "<All keys matched successfully>"
      ]
     },
     "execution_count": 6,
     "metadata": {},
     "output_type": "execute_result"
    }
   ],
   "source": [
    "autoencoder.load_state_dict(torch.load(r'/home/UTTU/NewProj/linux-kernel-examples/kernelKeyLogger/OS_zip_file/current_model.torch'))"
   ]
  },
  {
   "cell_type": "code",
   "execution_count": 17,
   "id": "56319567",
   "metadata": {},
   "outputs": [
    {
     "name": "stdout",
     "output_type": "stream",
     "text": [
      "0.9428612344264643\n"
     ]
    }
   ],
   "source": [
    "current_data=prepare_data(Sam_2)\n",
    "scaler=StandardScaler()\n",
    "scaled_data = scaler.fit_transform(current_data)\n",
    "tensor_data=torch.Tensor(scaled_data)\n",
    "reconstructed = autoencoder(tensor_data)\n",
    "\n",
    "reconstruction_error = np.mean((scaled_data - reconstructed.detach().numpy())**2, axis=1)\n",
    "# print(reconstruction_threshold)\n",
    "# test_labels = prepare_data2(test_label_path)\n",
    "pred_labels = []\n",
    "# for i, err in enumerate(reconstruction_error):\n",
    "for i,err in enumerate(reconstruction_error):\n",
    "    if reconstruction_error[i] > reconstruction_threshold:\n",
    "        pred_labels.append(0)\n",
    "    else:\n",
    "        pred_labels.append(1)\n",
    "print(sum(pred_labels)/len(pred_labels))"
   ]
  }
 ],
 "metadata": {
  "kernelspec": {
   "display_name": "Python 3 (ipykernel)",
   "language": "python",
   "name": "python3"
  },
  "language_info": {
   "codemirror_mode": {
    "name": "ipython",
    "version": 3
   },
   "file_extension": ".py",
   "mimetype": "text/x-python",
   "name": "python",
   "nbconvert_exporter": "python",
   "pygments_lexer": "ipython3",
   "version": "3.12.3"
  }
 },
 "nbformat": 4,
 "nbformat_minor": 5
}
